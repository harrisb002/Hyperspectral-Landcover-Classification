{
 "cells": [
  {
   "cell_type": "markdown",
   "metadata": {
    "id": "2urNHkRy-5A1"
   },
   "source": [
    "##Setup"
   ]
  },
  {
   "cell_type": "markdown",
   "metadata": {
    "id": "zv-jWjKh-jC3"
   },
   "source": [
    "###Installs"
   ]
  },
  {
   "cell_type": "code",
   "execution_count": 53,
   "metadata": {
    "colab": {
     "base_uri": "https://localhost:8080/"
    },
    "executionInfo": {
     "elapsed": 7703,
     "status": "ok",
     "timestamp": 1731628262323,
     "user": {
      "displayName": "Samuel Hobbs",
      "userId": "04903100635409287915"
     },
     "user_tz": 480
    },
    "id": "NvJ_X8M8-djY",
    "outputId": "cf10d22c-e20a-4405-efad-f56585178b32"
   },
   "outputs": [
    {
     "name": "stdout",
     "output_type": "stream",
     "text": [
      "Requirement already satisfied: rasterio in /usr/local/lib/python3.10/dist-packages (1.4.2)\n",
      "Requirement already satisfied: affine in /usr/local/lib/python3.10/dist-packages (from rasterio) (2.4.0)\n",
      "Requirement already satisfied: attrs in /usr/local/lib/python3.10/dist-packages (from rasterio) (24.2.0)\n",
      "Requirement already satisfied: certifi in /usr/local/lib/python3.10/dist-packages (from rasterio) (2024.8.30)\n",
      "Requirement already satisfied: click>=4.0 in /usr/local/lib/python3.10/dist-packages (from rasterio) (8.1.7)\n",
      "Requirement already satisfied: cligj>=0.5 in /usr/local/lib/python3.10/dist-packages (from rasterio) (0.7.2)\n",
      "Requirement already satisfied: numpy>=1.24 in /usr/local/lib/python3.10/dist-packages (from rasterio) (1.26.4)\n",
      "Requirement already satisfied: click-plugins in /usr/local/lib/python3.10/dist-packages (from rasterio) (1.1.1)\n",
      "Requirement already satisfied: pyparsing in /usr/local/lib/python3.10/dist-packages (from rasterio) (3.2.0)\n",
      "Requirement already satisfied: raster2xyz in /usr/local/lib/python3.10/dist-packages (0.1.3)\n",
      "Requirement already satisfied: numpy in /usr/local/lib/python3.10/dist-packages (from raster2xyz) (1.26.4)\n",
      "Requirement already satisfied: pandas in /usr/local/lib/python3.10/dist-packages (from raster2xyz) (2.2.2)\n",
      "Requirement already satisfied: GDAL in /usr/local/lib/python3.10/dist-packages (from raster2xyz) (3.6.4)\n",
      "Requirement already satisfied: python-dateutil>=2.8.2 in /usr/local/lib/python3.10/dist-packages (from pandas->raster2xyz) (2.8.2)\n",
      "Requirement already satisfied: pytz>=2020.1 in /usr/local/lib/python3.10/dist-packages (from pandas->raster2xyz) (2024.2)\n",
      "Requirement already satisfied: tzdata>=2022.7 in /usr/local/lib/python3.10/dist-packages (from pandas->raster2xyz) (2024.2)\n",
      "Requirement already satisfied: six>=1.5 in /usr/local/lib/python3.10/dist-packages (from python-dateutil>=2.8.2->pandas->raster2xyz) (1.16.0)\n"
     ]
    }
   ],
   "source": [
    "!pip install rasterio\n",
    "!pip install raster2xyz"
   ]
  },
  {
   "cell_type": "markdown",
   "metadata": {
    "id": "Bg6txo5K-nxm"
   },
   "source": [
    "###Imports"
   ]
  },
  {
   "cell_type": "code",
   "execution_count": 54,
   "metadata": {
    "executionInfo": {
     "elapsed": 20,
     "status": "ok",
     "timestamp": 1731628262324,
     "user": {
      "displayName": "Samuel Hobbs",
      "userId": "04903100635409287915"
     },
     "user_tz": 480
    },
    "id": "o_iOGIRD80Fd"
   },
   "outputs": [],
   "source": [
    "import rasterio\n",
    "from rasterio.plot import show\n",
    "from raster2xyz.raster2xyz import Raster2xyz\n",
    "import pandas as pd\n",
    "import numpy as np\n",
    "from os import listdir\n",
    "from os.path import isfile, join"
   ]
  },
  {
   "cell_type": "markdown",
   "metadata": {
    "id": "L5aJk6Q1-9Ep"
   },
   "source": [
    "###Connect Google Drive"
   ]
  },
  {
   "cell_type": "code",
   "execution_count": 55,
   "metadata": {
    "colab": {
     "base_uri": "https://localhost:8080/"
    },
    "executionInfo": {
     "elapsed": 1042,
     "status": "ok",
     "timestamp": 1731628263351,
     "user": {
      "displayName": "Samuel Hobbs",
      "userId": "04903100635409287915"
     },
     "user_tz": 480
    },
    "id": "lmdr667V_IGI",
    "outputId": "66a3e095-b69d-4b95-8460-55c85bada970"
   },
   "outputs": [
    {
     "name": "stdout",
     "output_type": "stream",
     "text": [
      "Drive already mounted at /content/drive/; to attempt to forcibly remount, call drive.mount(\"/content/drive/\", force_remount=True).\n"
     ]
    }
   ],
   "source": [
    "from google.colab import drive\n",
    "drive.mount('/content/drive/')"
   ]
  },
  {
   "cell_type": "markdown",
   "metadata": {
    "id": "DLmTehCoOnsp"
   },
   "source": [
    "### File Paths"
   ]
  },
  {
   "cell_type": "code",
   "execution_count": null,
   "metadata": {
    "executionInfo": {
     "elapsed": 17,
     "status": "ok",
     "timestamp": 1731634210860,
     "user": {
      "displayName": "Samuel Hobbs",
      "userId": "04903100635409287915"
     },
     "user_tz": 480
    },
    "id": "SFDLndDWXMdx"
   },
   "outputs": [],
   "source": [
    "#Directories\n",
    "main_dir = '/content/drive/Shareddrives/Land_Classification_Training_shared/Land_Classification_1D/' # The Main directory you are working in\n",
    "samples_dir = 'avirisng_sample_subset/'\n",
    "csv_dir = 'valid_samples_1d/'\n",
    "\n",
    "#Files\n",
    "labels_file = 'Sample_Boxes_Labels/Majority_Labeling.xlsx_-_Sheet1.csv'\n",
    "csv_file_name = 'samples_3.csv'                                                   # CHANGE NAME TO NOT OVERWRITE\n",
    "\n",
    "#Paths\n",
    "path_labels = join(main_dir, labels_file) #file\n",
    "path_samples = join(main_dir, samples_dir) #directory\n",
    "path_to_save_csv = join(main_dir, csv_dir) #directory"
   ]
  },
  {
   "cell_type": "markdown",
   "metadata": {
    "id": "c7n8gu-gWFU0"
   },
   "source": [
    "##Functions\n"
   ]
  },
  {
   "cell_type": "code",
   "execution_count": 76,
   "metadata": {
    "executionInfo": {
     "elapsed": 155,
     "status": "ok",
     "timestamp": 1731631935043,
     "user": {
      "displayName": "Samuel Hobbs",
      "userId": "04903100635409287915"
     },
     "user_tz": 480
    },
    "id": "fPQnOtUXl_Cl"
   },
   "outputs": [],
   "source": [
    "def get_labels(file_path):\n",
    "  '''\n",
    "  TBD\n",
    "  '''\n",
    "  return pd.read_csv(path_labels)[['Sample_num', 'Class.4']].rename(columns={\"Sample_num\": \"Sample_num\", \"Class.4\": \"Label\"})"
   ]
  },
  {
   "cell_type": "code",
   "execution_count": 77,
   "metadata": {
    "executionInfo": {
     "elapsed": 16,
     "status": "ok",
     "timestamp": 1731631935231,
     "user": {
      "displayName": "Samuel Hobbs",
      "userId": "04903100635409287915"
     },
     "user_tz": 480
    },
    "id": "YgKXX7uYmUZn"
   },
   "outputs": [],
   "source": [
    "def trim_data_files(filenames, labels):\n",
    "  '''\n",
    "  TBD\n",
    "  '''\n",
    "  # Init's\n",
    "  trimmed_filenames = []\n",
    "  size_label = labels.shape[0]\n",
    "  size_filenames = filenames.size\n",
    "  count_label = 0\n",
    "  count_filenames = 0\n",
    "\n",
    "  while(count_label != size_label and count_filenames != size_filenames):       # While we have not seen all labels and we have not seen all filenames\n",
    "    filename_num = int(filenames[count_filenames].split('_')[0])                ## this gets the first value of the file name (filename_num) seperated at '_'\n",
    "    label_num = labels['Sample_num'][count_label].astype(int)                   ## gets the current sample number in the label array at count_label\n",
    "    if (filename_num == label_num):                                             ## Checks to see if the current file is the label 'count_label'\n",
    "      trimmed_filenames.append(filenames[count_filenames])                      ### if it is then append the file name to the valid, labeled, filenames list\n",
    "      count_filenames += 1                                                      ### increment count_filenames +1\n",
    "    elif (filename_num > label_num):                                            ## Check if filename_num is greater than the sample number in labels at count_label\n",
    "      count_label += 1                                                          ### if it is then count_label needs to increment +1 as there are no more files that start with that value (sorted lists)\n",
    "    elif (filename_num < label_num):                                            ## Check if he filename_num is less than the current label number at count_label\n",
    "      count_filenames += 1                                                      ### if it is then increment count_filenames += 1 as there is no label for it.\n",
    "    else:                                                                       ## Something has gone horribly wrong\n",
    "      raise Exception(\"Something is very wrong in trim_data_files.\\nValues: \" + size_label + \", \" + size_filenames + \", \" + count_label + \", \" + count_filenames + \", \" )\n",
    "  return np.array(trimmed_filenames)"
   ]
  },
  {
   "cell_type": "code",
   "execution_count": 78,
   "metadata": {
    "executionInfo": {
     "elapsed": 14,
     "status": "ok",
     "timestamp": 1731631935231,
     "user": {
      "displayName": "Samuel Hobbs",
      "userId": "04903100635409287915"
     },
     "user_tz": 480
    },
    "id": "ViTfRoKzPkbz"
   },
   "outputs": [],
   "source": [
    "def check_res(res, min_res_bound=4.5, max_res_bound=6.5):\n",
    "  '''\n",
    "  Description:\n",
    "    Checks to see if the x/y resolution of a pixel is within the min/max bound.\n",
    "  Input:\n",
    "    res     : tuple of the x and y resolution of a pixel value\n",
    "  Output:\n",
    "    Bool    : True if with in min/max resolution bounds\n",
    "  '''\n",
    "  if (res[0] < min_res_bound) or (res[0] > max_res_bound) or (res[1] < min_res_bound) or (res[1] > max_res_bound):\n",
    "    return False\n",
    "  return True"
   ]
  },
  {
   "cell_type": "code",
   "execution_count": 79,
   "metadata": {
    "executionInfo": {
     "elapsed": 13,
     "status": "ok",
     "timestamp": 1731631935232,
     "user": {
      "displayName": "Samuel Hobbs",
      "userId": "04903100635409287915"
     },
     "user_tz": 480
    },
    "id": "59skQ7yuH-j8"
   },
   "outputs": [],
   "source": [
    "def tiff_to_arr(filepath, min_res=4.5, max_res=6.5):\n",
    "  '''\n",
    "  Description:\n",
    "    This function takes a filepath to a .tiff file, opens it, and reads it as a\n",
    "    numpy arr. Then returns said array.\n",
    "  Input:\n",
    "    filepath  : The file path to the .tiff file, starting from /content/...\n",
    "  Output:\n",
    "    data_3D   : A 3 dimensional array of frequency bands for the pixels of an\n",
    "                image.\n",
    "    Bool      : is this an image with a valid resolution\n",
    "  '''\n",
    "  with rasterio.open(filepath) as dataset:\n",
    "    if (                                                                        # you could really just put the res check if here... - sam to sam\n",
    "        check_res(\n",
    "            dataset.res,\n",
    "            min_res_bound = min_res,\n",
    "            max_res_bound = max_res\n",
    "            )\n",
    "        ):\n",
    "      return dataset.read(), True, str(dataset.shape)\n",
    "  return np.array([]), False, \"\""
   ]
  },
  {
   "cell_type": "code",
   "execution_count": 80,
   "metadata": {
    "executionInfo": {
     "elapsed": 12,
     "status": "ok",
     "timestamp": 1731631935232,
     "user": {
      "displayName": "Samuel Hobbs",
      "userId": "04903100635409287915"
     },
     "user_tz": 480
    },
    "id": "QUBd-pPL99tq"
   },
   "outputs": [],
   "source": [
    "def convert_3D_to_1D(data_3D):\n",
    "  '''\n",
    "  Description:\n",
    "    This function takes a 3 dimensional array of frequence bands when each\n",
    "    individual frequence reading is a NxN 2D array. So this 3D array is BxNxN\n",
    "    where B is the number of frequence bands. This function will return a N*NxB\n",
    "    array. Where every individual frequence corresponding to a pixel is in the\n",
    "    returned 1D array for each of the N*N pixels.\n",
    "  Input:\n",
    "    data_3D         : Numpy Array with 3 dimensions of shape (num_band, num_row, num_col)\n",
    "  Output:\n",
    "    bands_per_pixel : Numpy Array of shape (num_row * numcol, num_band)\n",
    "  '''\n",
    "  temp_list_1D_arr = []\n",
    "\n",
    "  # Access the depth (third dimension) and create 1D arrays\n",
    "  for i in range(data_3D.shape[1]):                 # 10 for both data_3D.shape[1] & data_3D.shape[2] to make the 10x10\n",
    "    for j in range(data_3D.shape[2]):\n",
    "      data_1D = data_3D[:, i, j].flatten()          # EX. this will take the [0,0] for every bands then flatten that into a 1D array. For all the bands corresponding to pixel [0,0]\n",
    "      temp_list_1D_arr.append(data_1D)              # append to the temp list\n",
    "  return np.array(temp_list_1D_arr)      # convert the list to a numpy array... because I want to.     NOTE: MAYBE HAVE THIS RETURN A PANDA'S DATAFRAME? -SAM"
   ]
  },
  {
   "cell_type": "code",
   "execution_count": 81,
   "metadata": {
    "executionInfo": {
     "elapsed": 18,
     "status": "ok",
     "timestamp": 1731631935386,
     "user": {
      "displayName": "Samuel Hobbs",
      "userId": "04903100635409287915"
     },
     "user_tz": 480
    },
    "id": "Q7WkIDcpVuFF"
   },
   "outputs": [],
   "source": [
    "def get_filenames(directory_path):\n",
    "  '''\n",
    "   * Description:\n",
    "   *   gets the name of both files and directories at path_samples\n",
    "   *   joins the path and the file names then checks if that is a file\n",
    "   *   if it is a file and not a directory it is added to the list filenames\n",
    "   *   once the list of file names is created, it is then sorted by number: '#_...'\n",
    "   *   the list is then converted to numpy array just cause.\n",
    "   *\n",
    "   *   convert_to_numpy_array(sort(get_list_of_only_filenames, sort_by_first_number_in_name))\n",
    "   * Input:\n",
    "   *   directory_path   : a string that is the file path to the directory\n",
    "   *                      you want a filename list from.\n",
    "   * Output:\n",
    "   *   Sorted Numpy Array of Filenames, array of strings\n",
    "  '''\n",
    "  return np.array(sorted([f for f in listdir(directory_path) if isfile(join(directory_path, f))], key=lambda x: int(x.split(\"_\")[0])))"
   ]
  },
  {
   "cell_type": "code",
   "execution_count": 82,
   "metadata": {
    "executionInfo": {
     "elapsed": 15,
     "status": "ok",
     "timestamp": 1731631935387,
     "user": {
      "displayName": "Samuel Hobbs",
      "userId": "04903100635409287915"
     },
     "user_tz": 480
    },
    "id": "7B1EJKnyaKDy"
   },
   "outputs": [],
   "source": [
    "def make_pandas_dataframe(dir_path, filename, col_labels, label=pd.NA, min_res=4.5, max_res=6.5):\n",
    "  '''\n",
    "  TBD\n",
    "  '''\n",
    "  arr, res_check, shape = tiff_to_arr(join(dir_path, filename), min_res=min_res, max_res=max_res)\n",
    "  #if filename is in label data for labeling.\n",
    "  if (res_check):\n",
    "    ds = convert_3D_to_1D(arr)\n",
    "    df = pd.DataFrame(ds, columns=col_labels)\n",
    "    df['Label'] = label\n",
    "    df['Shape'] = shape\n",
    "    df['File'] = filename\n",
    "    return df, True\n",
    "  return arr, False #if it's false then arr will be an empty numpy array"
   ]
  },
  {
   "cell_type": "code",
   "execution_count": 83,
   "metadata": {
    "executionInfo": {
     "elapsed": 13,
     "status": "ok",
     "timestamp": 1731631935387,
     "user": {
      "displayName": "Samuel Hobbs",
      "userId": "04903100635409287915"
     },
     "user_tz": 480
    },
    "id": "Mr6emIfCXlqC"
   },
   "outputs": [],
   "source": [
    "def get_all_data(sample_directory_path, min_res=4.5, max_res=6.5):\n",
    "  '''\n",
    "  TBD\n",
    "  '''\n",
    "  #A list of files that are valid and used to make the final dataframe\n",
    "  included_files = []\n",
    "\n",
    "  #Creates the frequency labels\n",
    "  columns_of_frequencies = []\n",
    "  for i in range(0,373,1):\n",
    "    columns_of_frequencies.append(\"frq\" + str(i))\n",
    "\n",
    "  # get an array of the sample file names\n",
    "  filenames = get_filenames(sample_directory_path)\n",
    "\n",
    "  # get labeldataframe\n",
    "  labels = get_labels(path_labels)\n",
    "\n",
    "  # trim the files to the ones with labels\n",
    "  trim_filenames = trim_data_files(filenames, labels)\n",
    "\n",
    "  #loop through and add to pandas dataframe\n",
    "  list_df = []\n",
    "  for i in range(0, len(trim_filenames)):\n",
    "\n",
    "    sample_num = int(trim_filenames[i].split('_')[0])                           #get the sample number for the label\n",
    "    label = labels[labels['Sample_num'] == sample_num]['Label'].values[0]       #gets the string label with the sample number\n",
    "\n",
    "    #get the dataframe for this specific file\n",
    "    df, res_check = make_pandas_dataframe(\n",
    "        sample_directory_path,\n",
    "        trim_filenames[i],\n",
    "        columns_of_frequencies,\n",
    "        label,\n",
    "        min_res = min_res,\n",
    "        max_res = max_res\n",
    "        )\n",
    "\n",
    "    if(res_check):                                                              #check to see if the file has a valid resolution\n",
    "      list_df.append(df)\n",
    "      included_files.append(trim_filenames[i])\n",
    "\n",
    "  return pd.concat(list_df), np.array(included_files)"
   ]
  },
  {
   "cell_type": "markdown",
   "metadata": {
    "id": "nde8-P7vVpQI"
   },
   "source": [
    "##Run"
   ]
  },
  {
   "cell_type": "code",
   "execution_count": 84,
   "metadata": {
    "collapsed": true,
    "executionInfo": {
     "elapsed": 2270588,
     "status": "ok",
     "timestamp": 1731634210857,
     "user": {
      "displayName": "Samuel Hobbs",
      "userId": "04903100635409287915"
     },
     "user_tz": 480
    },
    "id": "kxnWBojBEe38"
   },
   "outputs": [],
   "source": [
    "#So Slow...\n",
    "df, valid_files = get_all_data(path_samples) #this took 31 minutes to run... or 41 minutes"
   ]
  },
  {
   "cell_type": "code",
   "execution_count": 86,
   "metadata": {
    "colab": {
     "base_uri": "https://localhost:8080/",
     "height": 530
    },
    "executionInfo": {
     "elapsed": 368,
     "status": "ok",
     "timestamp": 1731634277037,
     "user": {
      "displayName": "Samuel Hobbs",
      "userId": "04903100635409287915"
     },
     "user_tz": 480
    },
    "id": "NNW5vKWMXPNZ",
    "outputId": "ef485cd5-d1a5-48a0-ad5b-12ffd8e4e148"
   },
   "outputs": [
    {
     "data": {
      "application/vnd.google.colaboratory.intrinsic+json": {
       "type": "dataframe",
       "variable_name": "df"
      },
      "text/html": [
       "\n",
       "  <div id=\"df-9b868a35-ebbb-4ced-9262-8de480b9b200\" class=\"colab-df-container\">\n",
       "    <div>\n",
       "<style scoped>\n",
       "    .dataframe tbody tr th:only-of-type {\n",
       "        vertical-align: middle;\n",
       "    }\n",
       "\n",
       "    .dataframe tbody tr th {\n",
       "        vertical-align: top;\n",
       "    }\n",
       "\n",
       "    .dataframe thead th {\n",
       "        text-align: right;\n",
       "    }\n",
       "</style>\n",
       "<table border=\"1\" class=\"dataframe\">\n",
       "  <thead>\n",
       "    <tr style=\"text-align: right;\">\n",
       "      <th></th>\n",
       "      <th>frq0</th>\n",
       "      <th>frq1</th>\n",
       "      <th>frq2</th>\n",
       "      <th>frq3</th>\n",
       "      <th>frq4</th>\n",
       "      <th>frq5</th>\n",
       "      <th>frq6</th>\n",
       "      <th>frq7</th>\n",
       "      <th>frq8</th>\n",
       "      <th>frq9</th>\n",
       "      <th>...</th>\n",
       "      <th>frq366</th>\n",
       "      <th>frq367</th>\n",
       "      <th>frq368</th>\n",
       "      <th>frq369</th>\n",
       "      <th>frq370</th>\n",
       "      <th>frq371</th>\n",
       "      <th>frq372</th>\n",
       "      <th>Label</th>\n",
       "      <th>Shape</th>\n",
       "      <th>File</th>\n",
       "    </tr>\n",
       "  </thead>\n",
       "  <tbody>\n",
       "    <tr>\n",
       "      <th>0</th>\n",
       "      <td>0.018910</td>\n",
       "      <td>0.025453</td>\n",
       "      <td>0.026801</td>\n",
       "      <td>0.029931</td>\n",
       "      <td>0.025996</td>\n",
       "      <td>0.030246</td>\n",
       "      <td>0.033545</td>\n",
       "      <td>0.035334</td>\n",
       "      <td>0.039591</td>\n",
       "      <td>0.044717</td>\n",
       "      <td>...</td>\n",
       "      <td>0.154068</td>\n",
       "      <td>0.154073</td>\n",
       "      <td>0.158080</td>\n",
       "      <td>0.160214</td>\n",
       "      <td>0.164343</td>\n",
       "      <td>0.173604</td>\n",
       "      <td>0.190160</td>\n",
       "      <td>Unconsolidated Barren</td>\n",
       "      <td>(10, 10)</td>\n",
       "      <td>1_ang20231028t101421_014_L2A_OE_main_27577724_...</td>\n",
       "    </tr>\n",
       "    <tr>\n",
       "      <th>1</th>\n",
       "      <td>0.013469</td>\n",
       "      <td>0.015442</td>\n",
       "      <td>0.018657</td>\n",
       "      <td>0.021459</td>\n",
       "      <td>0.028462</td>\n",
       "      <td>0.029567</td>\n",
       "      <td>0.035124</td>\n",
       "      <td>0.038447</td>\n",
       "      <td>0.039005</td>\n",
       "      <td>0.042359</td>\n",
       "      <td>...</td>\n",
       "      <td>0.143804</td>\n",
       "      <td>0.146481</td>\n",
       "      <td>0.146843</td>\n",
       "      <td>0.155816</td>\n",
       "      <td>0.159489</td>\n",
       "      <td>0.157601</td>\n",
       "      <td>0.169750</td>\n",
       "      <td>Unconsolidated Barren</td>\n",
       "      <td>(10, 10)</td>\n",
       "      <td>1_ang20231028t101421_014_L2A_OE_main_27577724_...</td>\n",
       "    </tr>\n",
       "    <tr>\n",
       "      <th>2</th>\n",
       "      <td>0.013482</td>\n",
       "      <td>0.013153</td>\n",
       "      <td>0.018295</td>\n",
       "      <td>0.021435</td>\n",
       "      <td>0.028463</td>\n",
       "      <td>0.031020</td>\n",
       "      <td>0.033894</td>\n",
       "      <td>0.037844</td>\n",
       "      <td>0.039349</td>\n",
       "      <td>0.043371</td>\n",
       "      <td>...</td>\n",
       "      <td>0.145602</td>\n",
       "      <td>0.146007</td>\n",
       "      <td>0.148808</td>\n",
       "      <td>0.149374</td>\n",
       "      <td>0.162757</td>\n",
       "      <td>0.157468</td>\n",
       "      <td>0.167964</td>\n",
       "      <td>Unconsolidated Barren</td>\n",
       "      <td>(10, 10)</td>\n",
       "      <td>1_ang20231028t101421_014_L2A_OE_main_27577724_...</td>\n",
       "    </tr>\n",
       "    <tr>\n",
       "      <th>3</th>\n",
       "      <td>0.013058</td>\n",
       "      <td>0.024265</td>\n",
       "      <td>0.024345</td>\n",
       "      <td>0.023020</td>\n",
       "      <td>0.027349</td>\n",
       "      <td>0.033271</td>\n",
       "      <td>0.032494</td>\n",
       "      <td>0.036257</td>\n",
       "      <td>0.040206</td>\n",
       "      <td>0.042641</td>\n",
       "      <td>...</td>\n",
       "      <td>0.149051</td>\n",
       "      <td>0.150941</td>\n",
       "      <td>0.147344</td>\n",
       "      <td>0.155273</td>\n",
       "      <td>0.154464</td>\n",
       "      <td>0.140058</td>\n",
       "      <td>0.165022</td>\n",
       "      <td>Unconsolidated Barren</td>\n",
       "      <td>(10, 10)</td>\n",
       "      <td>1_ang20231028t101421_014_L2A_OE_main_27577724_...</td>\n",
       "    </tr>\n",
       "    <tr>\n",
       "      <th>4</th>\n",
       "      <td>0.015231</td>\n",
       "      <td>0.024812</td>\n",
       "      <td>0.023221</td>\n",
       "      <td>0.024547</td>\n",
       "      <td>0.028005</td>\n",
       "      <td>0.033780</td>\n",
       "      <td>0.032661</td>\n",
       "      <td>0.035639</td>\n",
       "      <td>0.040920</td>\n",
       "      <td>0.043962</td>\n",
       "      <td>...</td>\n",
       "      <td>0.158802</td>\n",
       "      <td>0.157301</td>\n",
       "      <td>0.157921</td>\n",
       "      <td>0.164166</td>\n",
       "      <td>0.162148</td>\n",
       "      <td>0.151324</td>\n",
       "      <td>0.178857</td>\n",
       "      <td>Unconsolidated Barren</td>\n",
       "      <td>(10, 10)</td>\n",
       "      <td>1_ang20231028t101421_014_L2A_OE_main_27577724_...</td>\n",
       "    </tr>\n",
       "    <tr>\n",
       "      <th>...</th>\n",
       "      <td>...</td>\n",
       "      <td>...</td>\n",
       "      <td>...</td>\n",
       "      <td>...</td>\n",
       "      <td>...</td>\n",
       "      <td>...</td>\n",
       "      <td>...</td>\n",
       "      <td>...</td>\n",
       "      <td>...</td>\n",
       "      <td>...</td>\n",
       "      <td>...</td>\n",
       "      <td>...</td>\n",
       "      <td>...</td>\n",
       "      <td>...</td>\n",
       "      <td>...</td>\n",
       "      <td>...</td>\n",
       "      <td>...</td>\n",
       "      <td>...</td>\n",
       "      <td>...</td>\n",
       "      <td>...</td>\n",
       "      <td>...</td>\n",
       "    </tr>\n",
       "    <tr>\n",
       "      <th>59</th>\n",
       "      <td>0.046806</td>\n",
       "      <td>0.051411</td>\n",
       "      <td>0.059857</td>\n",
       "      <td>0.063429</td>\n",
       "      <td>0.066798</td>\n",
       "      <td>0.071768</td>\n",
       "      <td>0.072838</td>\n",
       "      <td>0.076341</td>\n",
       "      <td>0.080804</td>\n",
       "      <td>0.084892</td>\n",
       "      <td>...</td>\n",
       "      <td>0.012441</td>\n",
       "      <td>0.014959</td>\n",
       "      <td>0.019577</td>\n",
       "      <td>0.011943</td>\n",
       "      <td>0.015404</td>\n",
       "      <td>0.021072</td>\n",
       "      <td>0.027756</td>\n",
       "      <td>Waterbodies</td>\n",
       "      <td>(8, 8)</td>\n",
       "      <td>12128_ang20231031t092656_025_L2A_OE_main_27577...</td>\n",
       "    </tr>\n",
       "    <tr>\n",
       "      <th>60</th>\n",
       "      <td>0.046862</td>\n",
       "      <td>0.052788</td>\n",
       "      <td>0.061928</td>\n",
       "      <td>0.065137</td>\n",
       "      <td>0.069281</td>\n",
       "      <td>0.072774</td>\n",
       "      <td>0.073955</td>\n",
       "      <td>0.078714</td>\n",
       "      <td>0.082927</td>\n",
       "      <td>0.088494</td>\n",
       "      <td>...</td>\n",
       "      <td>0.016511</td>\n",
       "      <td>0.012616</td>\n",
       "      <td>0.015370</td>\n",
       "      <td>0.018824</td>\n",
       "      <td>0.028074</td>\n",
       "      <td>0.047163</td>\n",
       "      <td>0.031902</td>\n",
       "      <td>Waterbodies</td>\n",
       "      <td>(8, 8)</td>\n",
       "      <td>12128_ang20231031t092656_025_L2A_OE_main_27577...</td>\n",
       "    </tr>\n",
       "    <tr>\n",
       "      <th>61</th>\n",
       "      <td>0.044689</td>\n",
       "      <td>0.049277</td>\n",
       "      <td>0.055507</td>\n",
       "      <td>0.061436</td>\n",
       "      <td>0.064873</td>\n",
       "      <td>0.068337</td>\n",
       "      <td>0.069823</td>\n",
       "      <td>0.074879</td>\n",
       "      <td>0.078751</td>\n",
       "      <td>0.082332</td>\n",
       "      <td>...</td>\n",
       "      <td>0.012599</td>\n",
       "      <td>0.012702</td>\n",
       "      <td>0.017404</td>\n",
       "      <td>0.018361</td>\n",
       "      <td>0.018821</td>\n",
       "      <td>0.030842</td>\n",
       "      <td>0.078079</td>\n",
       "      <td>Waterbodies</td>\n",
       "      <td>(8, 8)</td>\n",
       "      <td>12128_ang20231031t092656_025_L2A_OE_main_27577...</td>\n",
       "    </tr>\n",
       "    <tr>\n",
       "      <th>62</th>\n",
       "      <td>0.047958</td>\n",
       "      <td>0.051963</td>\n",
       "      <td>0.058101</td>\n",
       "      <td>0.065782</td>\n",
       "      <td>0.067146</td>\n",
       "      <td>0.070770</td>\n",
       "      <td>0.073709</td>\n",
       "      <td>0.077327</td>\n",
       "      <td>0.081112</td>\n",
       "      <td>0.085983</td>\n",
       "      <td>...</td>\n",
       "      <td>0.014440</td>\n",
       "      <td>0.018656</td>\n",
       "      <td>0.015339</td>\n",
       "      <td>0.018846</td>\n",
       "      <td>0.030422</td>\n",
       "      <td>0.048251</td>\n",
       "      <td>0.034640</td>\n",
       "      <td>Waterbodies</td>\n",
       "      <td>(8, 8)</td>\n",
       "      <td>12128_ang20231031t092656_025_L2A_OE_main_27577...</td>\n",
       "    </tr>\n",
       "    <tr>\n",
       "      <th>63</th>\n",
       "      <td>0.048413</td>\n",
       "      <td>0.051981</td>\n",
       "      <td>0.060076</td>\n",
       "      <td>0.066322</td>\n",
       "      <td>0.067937</td>\n",
       "      <td>0.074077</td>\n",
       "      <td>0.074768</td>\n",
       "      <td>0.077731</td>\n",
       "      <td>0.082177</td>\n",
       "      <td>0.086770</td>\n",
       "      <td>...</td>\n",
       "      <td>0.016733</td>\n",
       "      <td>0.018010</td>\n",
       "      <td>0.019577</td>\n",
       "      <td>0.019150</td>\n",
       "      <td>0.015745</td>\n",
       "      <td>0.052738</td>\n",
       "      <td>0.069968</td>\n",
       "      <td>Waterbodies</td>\n",
       "      <td>(8, 8)</td>\n",
       "      <td>12128_ang20231031t092656_025_L2A_OE_main_27577...</td>\n",
       "    </tr>\n",
       "  </tbody>\n",
       "</table>\n",
       "<p>300038 rows × 376 columns</p>\n",
       "</div>\n",
       "    <div class=\"colab-df-buttons\">\n",
       "\n",
       "  <div class=\"colab-df-container\">\n",
       "    <button class=\"colab-df-convert\" onclick=\"convertToInteractive('df-9b868a35-ebbb-4ced-9262-8de480b9b200')\"\n",
       "            title=\"Convert this dataframe to an interactive table.\"\n",
       "            style=\"display:none;\">\n",
       "\n",
       "  <svg xmlns=\"http://www.w3.org/2000/svg\" height=\"24px\" viewBox=\"0 -960 960 960\">\n",
       "    <path d=\"M120-120v-720h720v720H120Zm60-500h600v-160H180v160Zm220 220h160v-160H400v160Zm0 220h160v-160H400v160ZM180-400h160v-160H180v160Zm440 0h160v-160H620v160ZM180-180h160v-160H180v160Zm440 0h160v-160H620v160Z\"/>\n",
       "  </svg>\n",
       "    </button>\n",
       "\n",
       "  <style>\n",
       "    .colab-df-container {\n",
       "      display:flex;\n",
       "      gap: 12px;\n",
       "    }\n",
       "\n",
       "    .colab-df-convert {\n",
       "      background-color: #E8F0FE;\n",
       "      border: none;\n",
       "      border-radius: 50%;\n",
       "      cursor: pointer;\n",
       "      display: none;\n",
       "      fill: #1967D2;\n",
       "      height: 32px;\n",
       "      padding: 0 0 0 0;\n",
       "      width: 32px;\n",
       "    }\n",
       "\n",
       "    .colab-df-convert:hover {\n",
       "      background-color: #E2EBFA;\n",
       "      box-shadow: 0px 1px 2px rgba(60, 64, 67, 0.3), 0px 1px 3px 1px rgba(60, 64, 67, 0.15);\n",
       "      fill: #174EA6;\n",
       "    }\n",
       "\n",
       "    .colab-df-buttons div {\n",
       "      margin-bottom: 4px;\n",
       "    }\n",
       "\n",
       "    [theme=dark] .colab-df-convert {\n",
       "      background-color: #3B4455;\n",
       "      fill: #D2E3FC;\n",
       "    }\n",
       "\n",
       "    [theme=dark] .colab-df-convert:hover {\n",
       "      background-color: #434B5C;\n",
       "      box-shadow: 0px 1px 3px 1px rgba(0, 0, 0, 0.15);\n",
       "      filter: drop-shadow(0px 1px 2px rgba(0, 0, 0, 0.3));\n",
       "      fill: #FFFFFF;\n",
       "    }\n",
       "  </style>\n",
       "\n",
       "    <script>\n",
       "      const buttonEl =\n",
       "        document.querySelector('#df-9b868a35-ebbb-4ced-9262-8de480b9b200 button.colab-df-convert');\n",
       "      buttonEl.style.display =\n",
       "        google.colab.kernel.accessAllowed ? 'block' : 'none';\n",
       "\n",
       "      async function convertToInteractive(key) {\n",
       "        const element = document.querySelector('#df-9b868a35-ebbb-4ced-9262-8de480b9b200');\n",
       "        const dataTable =\n",
       "          await google.colab.kernel.invokeFunction('convertToInteractive',\n",
       "                                                    [key], {});\n",
       "        if (!dataTable) return;\n",
       "\n",
       "        const docLinkHtml = 'Like what you see? Visit the ' +\n",
       "          '<a target=\"_blank\" href=https://colab.research.google.com/notebooks/data_table.ipynb>data table notebook</a>'\n",
       "          + ' to learn more about interactive tables.';\n",
       "        element.innerHTML = '';\n",
       "        dataTable['output_type'] = 'display_data';\n",
       "        await google.colab.output.renderOutput(dataTable, element);\n",
       "        const docLink = document.createElement('div');\n",
       "        docLink.innerHTML = docLinkHtml;\n",
       "        element.appendChild(docLink);\n",
       "      }\n",
       "    </script>\n",
       "  </div>\n",
       "\n",
       "\n",
       "<div id=\"df-9bcdc0b1-eb16-4fe4-b0bd-9d703229f3be\">\n",
       "  <button class=\"colab-df-quickchart\" onclick=\"quickchart('df-9bcdc0b1-eb16-4fe4-b0bd-9d703229f3be')\"\n",
       "            title=\"Suggest charts\"\n",
       "            style=\"display:none;\">\n",
       "\n",
       "<svg xmlns=\"http://www.w3.org/2000/svg\" height=\"24px\"viewBox=\"0 0 24 24\"\n",
       "     width=\"24px\">\n",
       "    <g>\n",
       "        <path d=\"M19 3H5c-1.1 0-2 .9-2 2v14c0 1.1.9 2 2 2h14c1.1 0 2-.9 2-2V5c0-1.1-.9-2-2-2zM9 17H7v-7h2v7zm4 0h-2V7h2v10zm4 0h-2v-4h2v4z\"/>\n",
       "    </g>\n",
       "</svg>\n",
       "  </button>\n",
       "\n",
       "<style>\n",
       "  .colab-df-quickchart {\n",
       "      --bg-color: #E8F0FE;\n",
       "      --fill-color: #1967D2;\n",
       "      --hover-bg-color: #E2EBFA;\n",
       "      --hover-fill-color: #174EA6;\n",
       "      --disabled-fill-color: #AAA;\n",
       "      --disabled-bg-color: #DDD;\n",
       "  }\n",
       "\n",
       "  [theme=dark] .colab-df-quickchart {\n",
       "      --bg-color: #3B4455;\n",
       "      --fill-color: #D2E3FC;\n",
       "      --hover-bg-color: #434B5C;\n",
       "      --hover-fill-color: #FFFFFF;\n",
       "      --disabled-bg-color: #3B4455;\n",
       "      --disabled-fill-color: #666;\n",
       "  }\n",
       "\n",
       "  .colab-df-quickchart {\n",
       "    background-color: var(--bg-color);\n",
       "    border: none;\n",
       "    border-radius: 50%;\n",
       "    cursor: pointer;\n",
       "    display: none;\n",
       "    fill: var(--fill-color);\n",
       "    height: 32px;\n",
       "    padding: 0;\n",
       "    width: 32px;\n",
       "  }\n",
       "\n",
       "  .colab-df-quickchart:hover {\n",
       "    background-color: var(--hover-bg-color);\n",
       "    box-shadow: 0 1px 2px rgba(60, 64, 67, 0.3), 0 1px 3px 1px rgba(60, 64, 67, 0.15);\n",
       "    fill: var(--button-hover-fill-color);\n",
       "  }\n",
       "\n",
       "  .colab-df-quickchart-complete:disabled,\n",
       "  .colab-df-quickchart-complete:disabled:hover {\n",
       "    background-color: var(--disabled-bg-color);\n",
       "    fill: var(--disabled-fill-color);\n",
       "    box-shadow: none;\n",
       "  }\n",
       "\n",
       "  .colab-df-spinner {\n",
       "    border: 2px solid var(--fill-color);\n",
       "    border-color: transparent;\n",
       "    border-bottom-color: var(--fill-color);\n",
       "    animation:\n",
       "      spin 1s steps(1) infinite;\n",
       "  }\n",
       "\n",
       "  @keyframes spin {\n",
       "    0% {\n",
       "      border-color: transparent;\n",
       "      border-bottom-color: var(--fill-color);\n",
       "      border-left-color: var(--fill-color);\n",
       "    }\n",
       "    20% {\n",
       "      border-color: transparent;\n",
       "      border-left-color: var(--fill-color);\n",
       "      border-top-color: var(--fill-color);\n",
       "    }\n",
       "    30% {\n",
       "      border-color: transparent;\n",
       "      border-left-color: var(--fill-color);\n",
       "      border-top-color: var(--fill-color);\n",
       "      border-right-color: var(--fill-color);\n",
       "    }\n",
       "    40% {\n",
       "      border-color: transparent;\n",
       "      border-right-color: var(--fill-color);\n",
       "      border-top-color: var(--fill-color);\n",
       "    }\n",
       "    60% {\n",
       "      border-color: transparent;\n",
       "      border-right-color: var(--fill-color);\n",
       "    }\n",
       "    80% {\n",
       "      border-color: transparent;\n",
       "      border-right-color: var(--fill-color);\n",
       "      border-bottom-color: var(--fill-color);\n",
       "    }\n",
       "    90% {\n",
       "      border-color: transparent;\n",
       "      border-bottom-color: var(--fill-color);\n",
       "    }\n",
       "  }\n",
       "</style>\n",
       "\n",
       "  <script>\n",
       "    async function quickchart(key) {\n",
       "      const quickchartButtonEl =\n",
       "        document.querySelector('#' + key + ' button');\n",
       "      quickchartButtonEl.disabled = true;  // To prevent multiple clicks.\n",
       "      quickchartButtonEl.classList.add('colab-df-spinner');\n",
       "      try {\n",
       "        const charts = await google.colab.kernel.invokeFunction(\n",
       "            'suggestCharts', [key], {});\n",
       "      } catch (error) {\n",
       "        console.error('Error during call to suggestCharts:', error);\n",
       "      }\n",
       "      quickchartButtonEl.classList.remove('colab-df-spinner');\n",
       "      quickchartButtonEl.classList.add('colab-df-quickchart-complete');\n",
       "    }\n",
       "    (() => {\n",
       "      let quickchartButtonEl =\n",
       "        document.querySelector('#df-9bcdc0b1-eb16-4fe4-b0bd-9d703229f3be button');\n",
       "      quickchartButtonEl.style.display =\n",
       "        google.colab.kernel.accessAllowed ? 'block' : 'none';\n",
       "    })();\n",
       "  </script>\n",
       "</div>\n",
       "\n",
       "  <div id=\"id_f8dd4340-9c75-401a-84ba-e5a57c10972c\">\n",
       "    <style>\n",
       "      .colab-df-generate {\n",
       "        background-color: #E8F0FE;\n",
       "        border: none;\n",
       "        border-radius: 50%;\n",
       "        cursor: pointer;\n",
       "        display: none;\n",
       "        fill: #1967D2;\n",
       "        height: 32px;\n",
       "        padding: 0 0 0 0;\n",
       "        width: 32px;\n",
       "      }\n",
       "\n",
       "      .colab-df-generate:hover {\n",
       "        background-color: #E2EBFA;\n",
       "        box-shadow: 0px 1px 2px rgba(60, 64, 67, 0.3), 0px 1px 3px 1px rgba(60, 64, 67, 0.15);\n",
       "        fill: #174EA6;\n",
       "      }\n",
       "\n",
       "      [theme=dark] .colab-df-generate {\n",
       "        background-color: #3B4455;\n",
       "        fill: #D2E3FC;\n",
       "      }\n",
       "\n",
       "      [theme=dark] .colab-df-generate:hover {\n",
       "        background-color: #434B5C;\n",
       "        box-shadow: 0px 1px 3px 1px rgba(0, 0, 0, 0.15);\n",
       "        filter: drop-shadow(0px 1px 2px rgba(0, 0, 0, 0.3));\n",
       "        fill: #FFFFFF;\n",
       "      }\n",
       "    </style>\n",
       "    <button class=\"colab-df-generate\" onclick=\"generateWithVariable('df')\"\n",
       "            title=\"Generate code using this dataframe.\"\n",
       "            style=\"display:none;\">\n",
       "\n",
       "  <svg xmlns=\"http://www.w3.org/2000/svg\" height=\"24px\"viewBox=\"0 0 24 24\"\n",
       "       width=\"24px\">\n",
       "    <path d=\"M7,19H8.4L18.45,9,17,7.55,7,17.6ZM5,21V16.75L18.45,3.32a2,2,0,0,1,2.83,0l1.4,1.43a1.91,1.91,0,0,1,.58,1.4,1.91,1.91,0,0,1-.58,1.4L9.25,21ZM18.45,9,17,7.55Zm-12,3A5.31,5.31,0,0,0,4.9,8.1,5.31,5.31,0,0,0,1,6.5,5.31,5.31,0,0,0,4.9,4.9,5.31,5.31,0,0,0,6.5,1,5.31,5.31,0,0,0,8.1,4.9,5.31,5.31,0,0,0,12,6.5,5.46,5.46,0,0,0,6.5,12Z\"/>\n",
       "  </svg>\n",
       "    </button>\n",
       "    <script>\n",
       "      (() => {\n",
       "      const buttonEl =\n",
       "        document.querySelector('#id_f8dd4340-9c75-401a-84ba-e5a57c10972c button.colab-df-generate');\n",
       "      buttonEl.style.display =\n",
       "        google.colab.kernel.accessAllowed ? 'block' : 'none';\n",
       "\n",
       "      buttonEl.onclick = () => {\n",
       "        google.colab.notebook.generateWithVariable('df');\n",
       "      }\n",
       "      })();\n",
       "    </script>\n",
       "  </div>\n",
       "\n",
       "    </div>\n",
       "  </div>\n"
      ],
      "text/plain": [
       "        frq0      frq1      frq2      frq3      frq4      frq5      frq6  \\\n",
       "0   0.018910  0.025453  0.026801  0.029931  0.025996  0.030246  0.033545   \n",
       "1   0.013469  0.015442  0.018657  0.021459  0.028462  0.029567  0.035124   \n",
       "2   0.013482  0.013153  0.018295  0.021435  0.028463  0.031020  0.033894   \n",
       "3   0.013058  0.024265  0.024345  0.023020  0.027349  0.033271  0.032494   \n",
       "4   0.015231  0.024812  0.023221  0.024547  0.028005  0.033780  0.032661   \n",
       "..       ...       ...       ...       ...       ...       ...       ...   \n",
       "59  0.046806  0.051411  0.059857  0.063429  0.066798  0.071768  0.072838   \n",
       "60  0.046862  0.052788  0.061928  0.065137  0.069281  0.072774  0.073955   \n",
       "61  0.044689  0.049277  0.055507  0.061436  0.064873  0.068337  0.069823   \n",
       "62  0.047958  0.051963  0.058101  0.065782  0.067146  0.070770  0.073709   \n",
       "63  0.048413  0.051981  0.060076  0.066322  0.067937  0.074077  0.074768   \n",
       "\n",
       "        frq7      frq8      frq9  ...    frq366    frq367    frq368    frq369  \\\n",
       "0   0.035334  0.039591  0.044717  ...  0.154068  0.154073  0.158080  0.160214   \n",
       "1   0.038447  0.039005  0.042359  ...  0.143804  0.146481  0.146843  0.155816   \n",
       "2   0.037844  0.039349  0.043371  ...  0.145602  0.146007  0.148808  0.149374   \n",
       "3   0.036257  0.040206  0.042641  ...  0.149051  0.150941  0.147344  0.155273   \n",
       "4   0.035639  0.040920  0.043962  ...  0.158802  0.157301  0.157921  0.164166   \n",
       "..       ...       ...       ...  ...       ...       ...       ...       ...   \n",
       "59  0.076341  0.080804  0.084892  ...  0.012441  0.014959  0.019577  0.011943   \n",
       "60  0.078714  0.082927  0.088494  ...  0.016511  0.012616  0.015370  0.018824   \n",
       "61  0.074879  0.078751  0.082332  ...  0.012599  0.012702  0.017404  0.018361   \n",
       "62  0.077327  0.081112  0.085983  ...  0.014440  0.018656  0.015339  0.018846   \n",
       "63  0.077731  0.082177  0.086770  ...  0.016733  0.018010  0.019577  0.019150   \n",
       "\n",
       "      frq370    frq371    frq372                  Label     Shape  \\\n",
       "0   0.164343  0.173604  0.190160  Unconsolidated Barren  (10, 10)   \n",
       "1   0.159489  0.157601  0.169750  Unconsolidated Barren  (10, 10)   \n",
       "2   0.162757  0.157468  0.167964  Unconsolidated Barren  (10, 10)   \n",
       "3   0.154464  0.140058  0.165022  Unconsolidated Barren  (10, 10)   \n",
       "4   0.162148  0.151324  0.178857  Unconsolidated Barren  (10, 10)   \n",
       "..       ...       ...       ...                    ...       ...   \n",
       "59  0.015404  0.021072  0.027756            Waterbodies    (8, 8)   \n",
       "60  0.028074  0.047163  0.031902            Waterbodies    (8, 8)   \n",
       "61  0.018821  0.030842  0.078079            Waterbodies    (8, 8)   \n",
       "62  0.030422  0.048251  0.034640            Waterbodies    (8, 8)   \n",
       "63  0.015745  0.052738  0.069968            Waterbodies    (8, 8)   \n",
       "\n",
       "                                                 File  \n",
       "0   1_ang20231028t101421_014_L2A_OE_main_27577724_...  \n",
       "1   1_ang20231028t101421_014_L2A_OE_main_27577724_...  \n",
       "2   1_ang20231028t101421_014_L2A_OE_main_27577724_...  \n",
       "3   1_ang20231028t101421_014_L2A_OE_main_27577724_...  \n",
       "4   1_ang20231028t101421_014_L2A_OE_main_27577724_...  \n",
       "..                                                ...  \n",
       "59  12128_ang20231031t092656_025_L2A_OE_main_27577...  \n",
       "60  12128_ang20231031t092656_025_L2A_OE_main_27577...  \n",
       "61  12128_ang20231031t092656_025_L2A_OE_main_27577...  \n",
       "62  12128_ang20231031t092656_025_L2A_OE_main_27577...  \n",
       "63  12128_ang20231031t092656_025_L2A_OE_main_27577...  \n",
       "\n",
       "[300038 rows x 376 columns]"
      ]
     },
     "execution_count": 86,
     "metadata": {},
     "output_type": "execute_result"
    }
   ],
   "source": [
    "# Lets check it out.\n",
    "df"
   ]
  },
  {
   "cell_type": "code",
   "execution_count": null,
   "metadata": {
    "colab": {
     "base_uri": "https://localhost:8080/"
    },
    "executionInfo": {
     "elapsed": 1607,
     "status": "ok",
     "timestamp": 1731622343310,
     "user": {
      "displayName": "Samuel Hobbs",
      "userId": "04903100635409287915"
     },
     "user_tz": 480
    },
    "id": "EiRPntwStolY",
    "outputId": "eff6a940-ef62-49d5-bcd9-926a980c5f17"
   },
   "outputs": [
    {
     "data": {
      "text/plain": [
       "5723685"
      ]
     },
     "execution_count": 46,
     "metadata": {},
     "output_type": "execute_result"
    }
   ],
   "source": [
    "#Check Number of NaNs\n",
    "columns_of_frequencies = []\n",
    "for i in range(0,373,1):\n",
    "  columns_of_frequencies.append(\"frq\" + str(i))\n",
    "\n",
    "nan_counts = df[columns_of_frequencies].isna().sum().sum()\n",
    "nan_counts"
   ]
  },
  {
   "cell_type": "code",
   "execution_count": 87,
   "metadata": {
    "executionInfo": {
     "elapsed": 181398,
     "status": "ok",
     "timestamp": 1731634516867,
     "user": {
      "displayName": "Samuel Hobbs",
      "userId": "04903100635409287915"
     },
     "user_tz": 480
    },
    "id": "6IxqshZ_Jaay"
   },
   "outputs": [],
   "source": [
    "\n",
    "df.to_csv(join(path_to_save_csv, csv_file_name)) #Saves to CSV"
   ]
  },
  {
   "cell_type": "code",
   "execution_count": 75,
   "metadata": {
    "colab": {
     "base_uri": "https://localhost:8080/"
    },
    "executionInfo": {
     "elapsed": 360,
     "status": "ok",
     "timestamp": 1731631743905,
     "user": {
      "displayName": "Samuel Hobbs",
      "userId": "04903100635409287915"
     },
     "user_tz": 480
    },
    "id": "ilRup9VTta4K",
    "outputId": "7903aa68-90f3-4ba2-e629-53a3d832cfa8"
   },
   "outputs": [
    {
     "name": "stdout",
     "output_type": "stream",
     "text": [
      "resolution:  (4.9, 4.9)\n",
      "Shape:  (10, 10)\n"
     ]
    }
   ],
   "source": [
    "with rasterio.open(join(path_samples, '1_ang20231028t101421_014_L2A_OE_main_27577724_RFL_ORT.tif')) as ds:\n",
    "    print(\"resolution: \", ds.res)\n",
    "    print(\"Shape: \", ds.shape)"
   ]
  }
 ],
 "metadata": {
  "colab": {
   "provenance": []
  },
  "kernelspec": {
   "display_name": "Python 3",
   "name": "python3"
  },
  "language_info": {
   "name": "python"
  }
 },
 "nbformat": 4,
 "nbformat_minor": 0
}
